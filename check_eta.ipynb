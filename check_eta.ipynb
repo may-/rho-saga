{
 "cells": [
  {
   "cell_type": "markdown",
   "metadata": {},
   "source": [
    "# Check L-constant and the optimal learning rate\n"
   ]
  },
  {
   "cell_type": "code",
   "execution_count": 1,
   "metadata": {
    "collapsed": true
   },
   "outputs": [],
   "source": [
    "from __future__ import division\n",
    "import numpy as np\n",
    "import os\n",
    "import glob"
   ]
  },
  {
   "cell_type": "code",
   "execution_count": 2,
   "metadata": {
    "collapsed": true
   },
   "outputs": [],
   "source": [
    "def get_eta(data, seed, n, offset=1000, k=1000, stop_point=None):\n",
    "    path = os.path.join('weights', data, 'saga_full_'+seed+'__')\n",
    "    \n",
    "    if stop_point is None:\n",
    "        stop_point = n * 100 / offset\n",
    "    \n",
    "    L = 0.0\n",
    "    for _ in range(k):\n",
    "        i = np.random.randint(1, high=stop_point, size=2)\n",
    "        if i[0] == i[1]:\n",
    "            continue\n",
    "        \n",
    "        a = np.load(path+str(i[0]*offset)+'.npz')\n",
    "        b = np.load(path+str(i[1]*offset)+'.npz')\n",
    "        l = np.linalg.norm(a['g'] - b['g'])/np.linalg.norm(a['w'] - b['w'])\n",
    "        if (not np.isinf(l)) and l > L:\n",
    "            L = l\n",
    "    eta = 1/(L*n + (3/L) + (4/n))\n",
    "    \n",
    "    return L, eta"
   ]
  },
  {
   "cell_type": "code",
   "execution_count": 4,
   "metadata": {},
   "outputs": [
    {
     "data": {
      "text/plain": [
       "(0.078299073882612202, 0.0002111370963356215)"
      ]
     },
     "execution_count": 4,
     "metadata": {},
     "output_type": "execute_result"
    }
   ],
   "source": [
    "get_eta('mnist', '12055', n=60000, k=5000)"
   ]
  },
  {
   "cell_type": "code",
   "execution_count": 5,
   "metadata": {},
   "outputs": [
    {
     "data": {
      "text/plain": [
       "(0.012490058067987787, 0.002276761469635403)"
      ]
     },
     "execution_count": 5,
     "metadata": {},
     "output_type": "execute_result"
    }
   ],
   "source": [
    "get_eta('news20', '30390', n=15935, k=5000)"
   ]
  },
  {
   "cell_type": "code",
   "execution_count": 10,
   "metadata": {},
   "outputs": [
    {
     "data": {
      "text/plain": [
       "(0.060546277557532849, 9.7020334720394823e-05)"
      ]
     },
     "execution_count": 10,
     "metadata": {},
     "output_type": "execute_result"
    }
   ],
   "source": [
    "get_eta('reuters4', '6974', n=169417, k=5000)"
   ]
  },
  {
   "cell_type": "code",
   "execution_count": 3,
   "metadata": {},
   "outputs": [
    {
     "data": {
      "text/plain": [
       "(0.39136156253032867, 4.8862736523888032e-06)"
      ]
     },
     "execution_count": 3,
     "metadata": {},
     "output_type": "execute_result"
    }
   ],
   "source": [
    "get_eta('covtype', '11103', n=522911, k=5000, stop_point=38382)"
   ]
  },
  {
   "cell_type": "code",
   "execution_count": null,
   "metadata": {
    "collapsed": true
   },
   "outputs": [],
   "source": [
    "get_eta('rcv1', '6974', n=169417, k=5000)"
   ]
  },
  {
   "cell_type": "code",
   "execution_count": null,
   "metadata": {
    "collapsed": true
   },
   "outputs": [],
   "source": []
  }
 ],
 "metadata": {
  "kernelspec": {
   "display_name": "Python 2",
   "language": "python",
   "name": "python2"
  },
  "language_info": {
   "codemirror_mode": {
    "name": "ipython",
    "version": 2
   },
   "file_extension": ".py",
   "mimetype": "text/x-python",
   "name": "python",
   "nbconvert_exporter": "python",
   "pygments_lexer": "ipython2",
   "version": "2.7.13"
  }
 },
 "nbformat": 4,
 "nbformat_minor": 2
}
