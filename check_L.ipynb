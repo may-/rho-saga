{
 "cells": [
  {
   "cell_type": "markdown",
   "metadata": {},
   "source": [
    "# Check L-constant and the optimal learning rate\n"
   ]
  },
  {
   "cell_type": "code",
   "execution_count": 4,
   "metadata": {
    "collapsed": true
   },
   "outputs": [],
   "source": [
    "import numpy as np\n",
    "import os\n",
    "import glob"
   ]
  },
  {
   "cell_type": "code",
   "execution_count": 9,
   "metadata": {
    "collapsed": true
   },
   "outputs": [],
   "source": [
    "def get_eta(data, optimizer, method, seed, stop_point, n, offset=1000, k=1000):\n",
    "    path = os.path.join('weights', data, optimizer+'_'+method+'_'+seed+'__')\n",
    "    #weights = sorted(glob.glob(path))\n",
    "    L = 0.0\n",
    "    for _ in range(k):\n",
    "        i = np.random.randint(1, high=stop_point, size=2)\n",
    "        if i[0] == i[1]:\n",
    "            continue\n",
    "        \n",
    "        a = np.load(path+str(i[0]*offset)+'.npz')\n",
    "        b = np.load(path+str(i[1]*offset)+'.npz')\n",
    "        l = np.linalg.norm(a['g'] - b['g'])/norm(a['w'] - b['w'])\n",
    "        if (not np.isinf(l)) and l > L:\n",
    "            L = l\n",
    "    eta = 1/(L*n + (3/L) + (4/n))\n",
    "    \n",
    "    return L, eta"
   ]
  },
  {
   "cell_type": "code",
   "execution_count": 13,
   "metadata": {},
   "outputs": [
    {
     "data": {
      "text/plain": [
       "(0.030891594186596535, 0.00051266028729560242)"
      ]
     },
     "execution_count": 13,
     "metadata": {},
     "output_type": "execute_result"
    }
   ],
   "source": [
    "get_eta('mnist', 'saga', 'full', '26631', stop_point=6000, n=60000, k=5000)"
   ]
  },
  {
   "cell_type": "code",
   "execution_count": null,
   "metadata": {
    "collapsed": true
   },
   "outputs": [],
   "source": [
    "get_eta('news20', 'saga', 'full', '19636', 15935, 5000)"
   ]
  },
  {
   "cell_type": "code",
   "execution_count": null,
   "metadata": {
    "collapsed": true
   },
   "outputs": [],
   "source": []
  }
 ],
 "metadata": {
  "kernelspec": {
   "display_name": "Python 2",
   "language": "python",
   "name": "python2"
  },
  "language_info": {
   "codemirror_mode": {
    "name": "ipython",
    "version": 2
   },
   "file_extension": ".py",
   "mimetype": "text/x-python",
   "name": "python",
   "nbconvert_exporter": "python",
   "pygments_lexer": "ipython2",
   "version": "2.7.13"
  }
 },
 "nbformat": 4,
 "nbformat_minor": 2
}
